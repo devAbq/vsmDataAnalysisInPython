{
 "cells": [
  {
   "cell_type": "code",
   "execution_count": null,
   "metadata": {},
   "outputs": [],
   "source": [
    "#import matplotlib, os, and filepathing for respectives graphical functionality, directories management and file pathing for current device\n",
    "import matplotlib.pyplot as plt #type:ignore\n",
    "import os\n",
    "from filePathing import pathToDataDirForThisDevice, pathToGraphsForThisDevice\n",
    "\n",
    "#file pathing\n",
    "pathToData = pathToDataDirForThisDevice\n",
    "pathToGraphs = pathToGraphsForThisDevice\n",
    "getListOfFiles = [os.path.join(pathToData, singleDataFile) for singleDataFile in os.listdir(pathToData) if os.path.isfile(os.path.join(pathToData, singleDataFile))]\n",
    "\n",
    "def getNormalization(targetToNormalize):\n",
    "  normalization = (2*(targetToNormalize)-((MagSatMax+MagSatMin)))/(MagSatMax-MagSatMin)\n",
    "  return normalization\n",
    "\n",
    "#loop for plotting all graphs -ABQ\n",
    "#notice that before the colon, ':',  in this first line we can put brackets, '[]', and specify a range to be plotted instead of plotting everything. example: '[18:37]:'; this will plot the files 18 and 36 and every single one in between these two -ABQ\n",
    "for counter in range(len(getListOfFiles)):\n",
    "\n",
    "  #dataset opening and reading -ABQ\n",
    "  with open(getListOfFiles[counter], \"r\") as file:\n",
    "    baseFileName = os.path.splitext(os.path.basename(getListOfFiles[counter]))[0]\n",
    "    \n",
    "    #this assumes a name schema akin to this: Ta_CoFeB_Ta_x_05_000.txt. where 000 is the angle of the reading and everything that preceeds it the sample id. -ABQ\n",
    "    readSampleName = baseFileName[:-3] \n",
    "    angleForDataset = baseFileName[-3:] \n",
    "\n",
    "    lineReadingsForDataset = file.readlines()[12:]\n",
    "    arrayForDataset = []\n",
    "    for line in lineReadingsForDataset:\n",
    "      singleLineForDataset = line.split() \n",
    "      associateFileLineWithArrayRowForDataset = [float(reading) for reading in singleLineForDataset]\n",
    "      arrayForDataset.append(associateFileLineWithArrayRowForDataset)\n",
    "\n",
    "  #this normalizes the hysteresis\n",
    "  getAllMagnetizationValues = [row[0] for row in arrayForDataset if row]\n",
    "  MagSatMax = max(getAllMagnetizationValues)\n",
    "  MagSatMin = min(getAllMagnetizationValues)\n",
    "  arrayOfNormalizedMagnetizationValues = [getNormalization(row[0]) for row in arrayForDataset if row]\n",
    "\n",
    "  #this builds the axes in the graph from using the array\n",
    "  xAxisReadingsForDataset = [row[0] for row in arrayForDataset if row]\n",
    "  yAxisReadingsForDataset = arrayOfNormalizedMagnetizationValues\n",
    "\n",
    "  #plot graph for dataset\n",
    "  plt.plot(xAxisReadingsForDataset, yAxisReadingsForDataset, \"--o\", color=\"r\", markersize=5)\n",
    "  plt.xlabel(\"H (Oe)\")\n",
    "  plt.ylabel(\"M (emu)\")\n",
    "  plt.legend([\"M\"], loc = \"lower right\", title=f\"{readSampleName}_{angleForDataset}\", frameon=False)\n",
    "  #plt.savefig(os.path.join(pathToGraphs, f\"graph_{readSampleName}_{angleForDataset}.png\"))\n",
    "  plt.show()"
   ]
  }
 ],
 "metadata": {
  "kernelspec": {
   "display_name": "Python 3",
   "language": "python",
   "name": "python3"
  },
  "language_info": {
   "codemirror_mode": {
    "name": "ipython",
    "version": 3
   },
   "file_extension": ".py",
   "mimetype": "text/x-python",
   "name": "python",
   "nbconvert_exporter": "python",
   "pygments_lexer": "ipython3",
   "version": "3.12.3"
  }
 },
 "nbformat": 4,
 "nbformat_minor": 2
}
